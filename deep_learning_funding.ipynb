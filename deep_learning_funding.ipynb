{
 "cells": [
  {
   "cell_type": "code",
   "execution_count": 1,
   "metadata": {},
   "outputs": [],
   "source": [
    "# Imports\n",
    "from sklearn.model_selection import train_test_split\n",
    "from sklearn.preprocessing import StandardScaler\n",
    "import pandas as pd\n",
    "import tensorflow as tf\n",
    "import keras_tuner as kt"
   ]
  },
  {
   "cell_type": "code",
   "execution_count": 2,
   "metadata": {},
   "outputs": [
    {
     "data": {
      "text/html": [
       "<div>\n",
       "<style scoped>\n",
       "    .dataframe tbody tr th:only-of-type {\n",
       "        vertical-align: middle;\n",
       "    }\n",
       "\n",
       "    .dataframe tbody tr th {\n",
       "        vertical-align: top;\n",
       "    }\n",
       "\n",
       "    .dataframe thead th {\n",
       "        text-align: right;\n",
       "    }\n",
       "</style>\n",
       "<table border=\"1\" class=\"dataframe\">\n",
       "  <thead>\n",
       "    <tr style=\"text-align: right;\">\n",
       "      <th></th>\n",
       "      <th>EIN</th>\n",
       "      <th>NAME</th>\n",
       "      <th>APPLICATION_TYPE</th>\n",
       "      <th>AFFILIATION</th>\n",
       "      <th>CLASSIFICATION</th>\n",
       "      <th>USE_CASE</th>\n",
       "      <th>ORGANIZATION</th>\n",
       "      <th>STATUS</th>\n",
       "      <th>INCOME_AMT</th>\n",
       "      <th>SPECIAL_CONSIDERATIONS</th>\n",
       "      <th>ASK_AMT</th>\n",
       "      <th>IS_SUCCESSFUL</th>\n",
       "    </tr>\n",
       "  </thead>\n",
       "  <tbody>\n",
       "    <tr>\n",
       "      <th>0</th>\n",
       "      <td>10520599</td>\n",
       "      <td>BLUE KNIGHTS MOTORCYCLE CLUB</td>\n",
       "      <td>T10</td>\n",
       "      <td>Independent</td>\n",
       "      <td>C1000</td>\n",
       "      <td>ProductDev</td>\n",
       "      <td>Association</td>\n",
       "      <td>1</td>\n",
       "      <td>0</td>\n",
       "      <td>N</td>\n",
       "      <td>5000</td>\n",
       "      <td>1</td>\n",
       "    </tr>\n",
       "    <tr>\n",
       "      <th>1</th>\n",
       "      <td>10531628</td>\n",
       "      <td>AMERICAN CHESAPEAKE CLUB CHARITABLE TR</td>\n",
       "      <td>T3</td>\n",
       "      <td>Independent</td>\n",
       "      <td>C2000</td>\n",
       "      <td>Preservation</td>\n",
       "      <td>Co-operative</td>\n",
       "      <td>1</td>\n",
       "      <td>1-9999</td>\n",
       "      <td>N</td>\n",
       "      <td>108590</td>\n",
       "      <td>1</td>\n",
       "    </tr>\n",
       "    <tr>\n",
       "      <th>2</th>\n",
       "      <td>10547893</td>\n",
       "      <td>ST CLOUD PROFESSIONAL FIREFIGHTERS</td>\n",
       "      <td>T5</td>\n",
       "      <td>CompanySponsored</td>\n",
       "      <td>C3000</td>\n",
       "      <td>ProductDev</td>\n",
       "      <td>Association</td>\n",
       "      <td>1</td>\n",
       "      <td>0</td>\n",
       "      <td>N</td>\n",
       "      <td>5000</td>\n",
       "      <td>0</td>\n",
       "    </tr>\n",
       "    <tr>\n",
       "      <th>3</th>\n",
       "      <td>10553066</td>\n",
       "      <td>SOUTHSIDE ATHLETIC ASSOCIATION</td>\n",
       "      <td>T3</td>\n",
       "      <td>CompanySponsored</td>\n",
       "      <td>C2000</td>\n",
       "      <td>Preservation</td>\n",
       "      <td>Trust</td>\n",
       "      <td>1</td>\n",
       "      <td>10000-24999</td>\n",
       "      <td>N</td>\n",
       "      <td>6692</td>\n",
       "      <td>1</td>\n",
       "    </tr>\n",
       "    <tr>\n",
       "      <th>4</th>\n",
       "      <td>10556103</td>\n",
       "      <td>GENETIC RESEARCH INSTITUTE OF THE DESERT</td>\n",
       "      <td>T3</td>\n",
       "      <td>Independent</td>\n",
       "      <td>C1000</td>\n",
       "      <td>Heathcare</td>\n",
       "      <td>Trust</td>\n",
       "      <td>1</td>\n",
       "      <td>100000-499999</td>\n",
       "      <td>N</td>\n",
       "      <td>142590</td>\n",
       "      <td>1</td>\n",
       "    </tr>\n",
       "  </tbody>\n",
       "</table>\n",
       "</div>"
      ],
      "text/plain": [
       "        EIN                                      NAME APPLICATION_TYPE  \\\n",
       "0  10520599              BLUE KNIGHTS MOTORCYCLE CLUB              T10   \n",
       "1  10531628    AMERICAN CHESAPEAKE CLUB CHARITABLE TR               T3   \n",
       "2  10547893        ST CLOUD PROFESSIONAL FIREFIGHTERS               T5   \n",
       "3  10553066            SOUTHSIDE ATHLETIC ASSOCIATION               T3   \n",
       "4  10556103  GENETIC RESEARCH INSTITUTE OF THE DESERT               T3   \n",
       "\n",
       "        AFFILIATION CLASSIFICATION      USE_CASE  ORGANIZATION  STATUS  \\\n",
       "0       Independent          C1000    ProductDev   Association       1   \n",
       "1       Independent          C2000  Preservation  Co-operative       1   \n",
       "2  CompanySponsored          C3000    ProductDev   Association       1   \n",
       "3  CompanySponsored          C2000  Preservation         Trust       1   \n",
       "4       Independent          C1000     Heathcare         Trust       1   \n",
       "\n",
       "      INCOME_AMT SPECIAL_CONSIDERATIONS  ASK_AMT  IS_SUCCESSFUL  \n",
       "0              0                      N     5000              1  \n",
       "1         1-9999                      N   108590              1  \n",
       "2              0                      N     5000              0  \n",
       "3    10000-24999                      N     6692              1  \n",
       "4  100000-499999                      N   142590              1  "
      ]
     },
     "execution_count": 2,
     "metadata": {},
     "output_type": "execute_result"
    }
   ],
   "source": [
    "# Read csv into DataFrame\n",
    "application_df = pd.read_csv(\"https://static.bc-edx.com/data/dl-1-2/m21/lms/starter/charity_data.csv\")\n",
    "application_df.head()"
   ]
  },
  {
   "cell_type": "code",
   "execution_count": 3,
   "metadata": {},
   "outputs": [
    {
     "data": {
      "text/html": [
       "<div>\n",
       "<style scoped>\n",
       "    .dataframe tbody tr th:only-of-type {\n",
       "        vertical-align: middle;\n",
       "    }\n",
       "\n",
       "    .dataframe tbody tr th {\n",
       "        vertical-align: top;\n",
       "    }\n",
       "\n",
       "    .dataframe thead th {\n",
       "        text-align: right;\n",
       "    }\n",
       "</style>\n",
       "<table border=\"1\" class=\"dataframe\">\n",
       "  <thead>\n",
       "    <tr style=\"text-align: right;\">\n",
       "      <th></th>\n",
       "      <th>APPLICATION_TYPE</th>\n",
       "      <th>AFFILIATION</th>\n",
       "      <th>CLASSIFICATION</th>\n",
       "      <th>USE_CASE</th>\n",
       "      <th>ORGANIZATION</th>\n",
       "      <th>STATUS</th>\n",
       "      <th>INCOME_AMT</th>\n",
       "      <th>SPECIAL_CONSIDERATIONS</th>\n",
       "      <th>ASK_AMT</th>\n",
       "      <th>IS_SUCCESSFUL</th>\n",
       "    </tr>\n",
       "  </thead>\n",
       "  <tbody>\n",
       "    <tr>\n",
       "      <th>0</th>\n",
       "      <td>T10</td>\n",
       "      <td>Independent</td>\n",
       "      <td>C1000</td>\n",
       "      <td>ProductDev</td>\n",
       "      <td>Association</td>\n",
       "      <td>1</td>\n",
       "      <td>0</td>\n",
       "      <td>N</td>\n",
       "      <td>5000</td>\n",
       "      <td>1</td>\n",
       "    </tr>\n",
       "    <tr>\n",
       "      <th>1</th>\n",
       "      <td>T3</td>\n",
       "      <td>Independent</td>\n",
       "      <td>C2000</td>\n",
       "      <td>Preservation</td>\n",
       "      <td>Co-operative</td>\n",
       "      <td>1</td>\n",
       "      <td>1-9999</td>\n",
       "      <td>N</td>\n",
       "      <td>108590</td>\n",
       "      <td>1</td>\n",
       "    </tr>\n",
       "    <tr>\n",
       "      <th>2</th>\n",
       "      <td>T5</td>\n",
       "      <td>CompanySponsored</td>\n",
       "      <td>C3000</td>\n",
       "      <td>ProductDev</td>\n",
       "      <td>Association</td>\n",
       "      <td>1</td>\n",
       "      <td>0</td>\n",
       "      <td>N</td>\n",
       "      <td>5000</td>\n",
       "      <td>0</td>\n",
       "    </tr>\n",
       "    <tr>\n",
       "      <th>3</th>\n",
       "      <td>T3</td>\n",
       "      <td>CompanySponsored</td>\n",
       "      <td>C2000</td>\n",
       "      <td>Preservation</td>\n",
       "      <td>Trust</td>\n",
       "      <td>1</td>\n",
       "      <td>10000-24999</td>\n",
       "      <td>N</td>\n",
       "      <td>6692</td>\n",
       "      <td>1</td>\n",
       "    </tr>\n",
       "    <tr>\n",
       "      <th>4</th>\n",
       "      <td>T3</td>\n",
       "      <td>Independent</td>\n",
       "      <td>C1000</td>\n",
       "      <td>Heathcare</td>\n",
       "      <td>Trust</td>\n",
       "      <td>1</td>\n",
       "      <td>100000-499999</td>\n",
       "      <td>N</td>\n",
       "      <td>142590</td>\n",
       "      <td>1</td>\n",
       "    </tr>\n",
       "  </tbody>\n",
       "</table>\n",
       "</div>"
      ],
      "text/plain": [
       "  APPLICATION_TYPE       AFFILIATION CLASSIFICATION      USE_CASE  \\\n",
       "0              T10       Independent          C1000    ProductDev   \n",
       "1               T3       Independent          C2000  Preservation   \n",
       "2               T5  CompanySponsored          C3000    ProductDev   \n",
       "3               T3  CompanySponsored          C2000  Preservation   \n",
       "4               T3       Independent          C1000     Heathcare   \n",
       "\n",
       "   ORGANIZATION  STATUS     INCOME_AMT SPECIAL_CONSIDERATIONS  ASK_AMT  \\\n",
       "0   Association       1              0                      N     5000   \n",
       "1  Co-operative       1         1-9999                      N   108590   \n",
       "2   Association       1              0                      N     5000   \n",
       "3         Trust       1    10000-24999                      N     6692   \n",
       "4         Trust       1  100000-499999                      N   142590   \n",
       "\n",
       "   IS_SUCCESSFUL  \n",
       "0              1  \n",
       "1              1  \n",
       "2              0  \n",
       "3              1  \n",
       "4              1  "
      ]
     },
     "execution_count": 3,
     "metadata": {},
     "output_type": "execute_result"
    }
   ],
   "source": [
    "# Drop ID columns\n",
    "application_df.drop(columns=[\"EIN\",\"NAME\"],inplace=True)\n",
    "application_df.head()"
   ]
  },
  {
   "cell_type": "code",
   "execution_count": 4,
   "metadata": {},
   "outputs": [
    {
     "data": {
      "text/plain": [
       "APPLICATION_TYPE            17\n",
       "AFFILIATION                  6\n",
       "CLASSIFICATION              71\n",
       "USE_CASE                     5\n",
       "ORGANIZATION                 4\n",
       "STATUS                       2\n",
       "INCOME_AMT                   9\n",
       "SPECIAL_CONSIDERATIONS       2\n",
       "ASK_AMT                   8747\n",
       "IS_SUCCESSFUL                2\n",
       "dtype: int64"
      ]
     },
     "execution_count": 4,
     "metadata": {},
     "output_type": "execute_result"
    }
   ],
   "source": [
    "# Count the unique values in each column\n",
    "application_df.nunique()"
   ]
  },
  {
   "cell_type": "code",
   "execution_count": 5,
   "metadata": {},
   "outputs": [
    {
     "data": {
      "text/plain": [
       "APPLICATION_TYPE\n",
       "T3     27037\n",
       "T4      1542\n",
       "T6      1216\n",
       "T5      1173\n",
       "T19     1065\n",
       "T8       737\n",
       "T7       725\n",
       "T10      528\n",
       "T9       156\n",
       "T13       66\n",
       "T12       27\n",
       "T2        16\n",
       "T25        3\n",
       "T14        3\n",
       "T29        2\n",
       "T15        2\n",
       "T17        1\n",
       "Name: count, dtype: int64"
      ]
     },
     "execution_count": 5,
     "metadata": {},
     "output_type": "execute_result"
    }
   ],
   "source": [
    "# Value counts for APPLICATION_TYPE column\n",
    "app_type_counts = application_df[\"APPLICATION_TYPE\"].value_counts()\n",
    "app_type_counts"
   ]
  },
  {
   "cell_type": "code",
   "execution_count": 6,
   "metadata": {},
   "outputs": [
    {
     "data": {
      "text/plain": [
       "Index(['T9', 'T13', 'T12', 'T2', 'T25', 'T14', 'T29', 'T15', 'T17'], dtype='object', name='APPLICATION_TYPE')"
      ]
     },
     "execution_count": 6,
     "metadata": {},
     "output_type": "execute_result"
    }
   ],
   "source": [
    "# List of application types to replace with \"Other\"\n",
    "application_types_to_replace = app_type_counts.loc[lambda x: x < 500].index\n",
    "application_types_to_replace"
   ]
  },
  {
   "cell_type": "code",
   "execution_count": 7,
   "metadata": {},
   "outputs": [
    {
     "data": {
      "text/plain": [
       "APPLICATION_TYPE\n",
       "T3       27037\n",
       "T4        1542\n",
       "T6        1216\n",
       "T5        1173\n",
       "T19       1065\n",
       "T8         737\n",
       "T7         725\n",
       "T10        528\n",
       "Other      276\n",
       "Name: count, dtype: int64"
      ]
     },
     "execution_count": 7,
     "metadata": {},
     "output_type": "execute_result"
    }
   ],
   "source": [
    "# Replace\n",
    "for app in application_types_to_replace:\n",
    "    application_df[\"APPLICATION_TYPE\"] = application_df[\"APPLICATION_TYPE\"].replace(app,\"Other\")\n",
    "\n",
    "# Check if replacement was successful\n",
    "application_df[\"APPLICATION_TYPE\"].value_counts()"
   ]
  },
  {
   "cell_type": "code",
   "execution_count": 8,
   "metadata": {},
   "outputs": [
    {
     "data": {
      "text/plain": [
       "CLASSIFICATION\n",
       "C1000    17326\n",
       "C2000     6074\n",
       "C1200     4837\n",
       "C3000     1918\n",
       "C2100     1883\n",
       "         ...  \n",
       "C4120        1\n",
       "C8210        1\n",
       "C2561        1\n",
       "C4500        1\n",
       "C2150        1\n",
       "Name: count, Length: 71, dtype: int64"
      ]
     },
     "execution_count": 8,
     "metadata": {},
     "output_type": "execute_result"
    }
   ],
   "source": [
    "# Value counts for CLASSIFICATION column\n",
    "classification_counts = application_df[\"CLASSIFICATION\"].value_counts()\n",
    "classification_counts"
   ]
  },
  {
   "cell_type": "code",
   "execution_count": 9,
   "metadata": {},
   "outputs": [
    {
     "data": {
      "text/plain": [
       "Index(['C7000', 'C1700', 'C4000', 'C5000', 'C1270', 'C2700', 'C2800', 'C7100',\n",
       "       'C1300', 'C1280', 'C1230', 'C1400', 'C7200', 'C2300', 'C1240', 'C8000',\n",
       "       'C7120', 'C1500', 'C1800', 'C6000', 'C1250', 'C8200', 'C1238', 'C1278',\n",
       "       'C1235', 'C1237', 'C7210', 'C2400', 'C1720', 'C4100', 'C1257', 'C1600',\n",
       "       'C1260', 'C2710', 'C0', 'C3200', 'C1234', 'C1246', 'C1267', 'C1256',\n",
       "       'C2190', 'C4200', 'C2600', 'C5200', 'C1370', 'C1248', 'C6100', 'C1820',\n",
       "       'C1900', 'C1236', 'C3700', 'C2570', 'C1580', 'C1245', 'C2500', 'C1570',\n",
       "       'C1283', 'C2380', 'C1732', 'C1728', 'C2170', 'C4120', 'C8210', 'C2561',\n",
       "       'C4500', 'C2150'],\n",
       "      dtype='object', name='CLASSIFICATION')"
      ]
     },
     "execution_count": 9,
     "metadata": {},
     "output_type": "execute_result"
    }
   ],
   "source": [
    "# List of classifications to replace with \"Other\"\n",
    "classifications_to_replace = classification_counts.loc[lambda x: x < 1000].index\n",
    "classifications_to_replace"
   ]
  },
  {
   "cell_type": "code",
   "execution_count": 10,
   "metadata": {},
   "outputs": [
    {
     "data": {
      "text/plain": [
       "CLASSIFICATION\n",
       "C1000    17326\n",
       "C2000     6074\n",
       "C1200     4837\n",
       "Other     2261\n",
       "C3000     1918\n",
       "C2100     1883\n",
       "Name: count, dtype: int64"
      ]
     },
     "execution_count": 10,
     "metadata": {},
     "output_type": "execute_result"
    }
   ],
   "source": [
    "# Replace\n",
    "for classif in classifications_to_replace:\n",
    "    application_df[\"CLASSIFICATION\"] = application_df[\"CLASSIFICATION\"].replace(classif,\"Other\")\n",
    "\n",
    "# Check if replacement was successful\n",
    "application_df[\"CLASSIFICATION\"].value_counts()"
   ]
  },
  {
   "cell_type": "code",
   "execution_count": 11,
   "metadata": {},
   "outputs": [
    {
     "name": "stdout",
     "output_type": "stream",
     "text": [
      "<class 'pandas.core.frame.DataFrame'>\n",
      "RangeIndex: 34299 entries, 0 to 34298\n",
      "Data columns (total 44 columns):\n",
      " #   Column                        Non-Null Count  Dtype\n",
      "---  ------                        --------------  -----\n",
      " 0   STATUS                        34299 non-null  int64\n",
      " 1   ASK_AMT                       34299 non-null  int64\n",
      " 2   IS_SUCCESSFUL                 34299 non-null  int64\n",
      " 3   APPLICATION_TYPE_Other        34299 non-null  bool \n",
      " 4   APPLICATION_TYPE_T10          34299 non-null  bool \n",
      " 5   APPLICATION_TYPE_T19          34299 non-null  bool \n",
      " 6   APPLICATION_TYPE_T3           34299 non-null  bool \n",
      " 7   APPLICATION_TYPE_T4           34299 non-null  bool \n",
      " 8   APPLICATION_TYPE_T5           34299 non-null  bool \n",
      " 9   APPLICATION_TYPE_T6           34299 non-null  bool \n",
      " 10  APPLICATION_TYPE_T7           34299 non-null  bool \n",
      " 11  APPLICATION_TYPE_T8           34299 non-null  bool \n",
      " 12  AFFILIATION_CompanySponsored  34299 non-null  bool \n",
      " 13  AFFILIATION_Family/Parent     34299 non-null  bool \n",
      " 14  AFFILIATION_Independent       34299 non-null  bool \n",
      " 15  AFFILIATION_National          34299 non-null  bool \n",
      " 16  AFFILIATION_Other             34299 non-null  bool \n",
      " 17  AFFILIATION_Regional          34299 non-null  bool \n",
      " 18  CLASSIFICATION_C1000          34299 non-null  bool \n",
      " 19  CLASSIFICATION_C1200          34299 non-null  bool \n",
      " 20  CLASSIFICATION_C2000          34299 non-null  bool \n",
      " 21  CLASSIFICATION_C2100          34299 non-null  bool \n",
      " 22  CLASSIFICATION_C3000          34299 non-null  bool \n",
      " 23  CLASSIFICATION_Other          34299 non-null  bool \n",
      " 24  USE_CASE_CommunityServ        34299 non-null  bool \n",
      " 25  USE_CASE_Heathcare            34299 non-null  bool \n",
      " 26  USE_CASE_Other                34299 non-null  bool \n",
      " 27  USE_CASE_Preservation         34299 non-null  bool \n",
      " 28  USE_CASE_ProductDev           34299 non-null  bool \n",
      " 29  ORGANIZATION_Association      34299 non-null  bool \n",
      " 30  ORGANIZATION_Co-operative     34299 non-null  bool \n",
      " 31  ORGANIZATION_Corporation      34299 non-null  bool \n",
      " 32  ORGANIZATION_Trust            34299 non-null  bool \n",
      " 33  INCOME_AMT_0                  34299 non-null  bool \n",
      " 34  INCOME_AMT_1-9999             34299 non-null  bool \n",
      " 35  INCOME_AMT_10000-24999        34299 non-null  bool \n",
      " 36  INCOME_AMT_100000-499999      34299 non-null  bool \n",
      " 37  INCOME_AMT_10M-50M            34299 non-null  bool \n",
      " 38  INCOME_AMT_1M-5M              34299 non-null  bool \n",
      " 39  INCOME_AMT_25000-99999        34299 non-null  bool \n",
      " 40  INCOME_AMT_50M+               34299 non-null  bool \n",
      " 41  INCOME_AMT_5M-10M             34299 non-null  bool \n",
      " 42  SPECIAL_CONSIDERATIONS_N      34299 non-null  bool \n",
      " 43  SPECIAL_CONSIDERATIONS_Y      34299 non-null  bool \n",
      "dtypes: bool(41), int64(3)\n",
      "memory usage: 2.1 MB\n"
     ]
    }
   ],
   "source": [
    "# Convert categorical data to numeric\n",
    "numeric_df = pd.get_dummies(application_df)\n",
    "numeric_df.info()"
   ]
  },
  {
   "cell_type": "code",
   "execution_count": 12,
   "metadata": {},
   "outputs": [],
   "source": [
    "# Split dataframe into features and target arrays\n",
    "y = numeric_df[\"IS_SUCCESSFUL\"]\n",
    "X = numeric_df.drop(columns=\"IS_SUCCESSFUL\")\n",
    "\n",
    "# Split features and target into training and testing sets\n",
    "X_train, X_test, y_train, y_test = train_test_split(X,y,random_state=78)"
   ]
  },
  {
   "cell_type": "code",
   "execution_count": 13,
   "metadata": {},
   "outputs": [],
   "source": [
    "# Instantiate StandardScaler\n",
    "scaler = StandardScaler()\n",
    "\n",
    "# Fit the scaler to the training features\n",
    "X_scaler = scaler.fit(X_train)\n",
    "\n",
    "# Scale the data\n",
    "X_train_scaled = X_scaler.transform(X_train)\n",
    "X_test_scaled = X_scaler.transform(X_test)"
   ]
  },
  {
   "cell_type": "code",
   "execution_count": 14,
   "metadata": {},
   "outputs": [
    {
     "name": "stdout",
     "output_type": "stream",
     "text": [
      "Model: \"sequential\"\n",
      "_________________________________________________________________\n",
      " Layer (type)                Output Shape              Param #   \n",
      "=================================================================\n",
      " dense (Dense)               (None, 43)                1892      \n",
      "                                                                 \n",
      " dense_1 (Dense)             (None, 20)                880       \n",
      "                                                                 \n",
      " dense_2 (Dense)             (None, 1)                 21        \n",
      "                                                                 \n",
      "=================================================================\n",
      "Total params: 2793 (10.91 KB)\n",
      "Trainable params: 2793 (10.91 KB)\n",
      "Non-trainable params: 0 (0.00 Byte)\n",
      "_________________________________________________________________\n"
     ]
    },
    {
     "name": "stderr",
     "output_type": "stream",
     "text": [
      "2023-07-30 14:48:58.371109: I metal_plugin/src/device/metal_device.cc:1154] Metal device set to: Apple M2\n",
      "2023-07-30 14:48:58.371130: I metal_plugin/src/device/metal_device.cc:296] systemMemory: 16.00 GB\n",
      "2023-07-30 14:48:58.371135: I metal_plugin/src/device/metal_device.cc:313] maxCacheSize: 5.33 GB\n",
      "2023-07-30 14:48:58.371166: I tensorflow/core/common_runtime/pluggable_device/pluggable_device_factory.cc:303] Could not identify NUMA node of platform GPU ID 0, defaulting to 0. Your kernel may not have been built with NUMA support.\n",
      "2023-07-30 14:48:58.371180: I tensorflow/core/common_runtime/pluggable_device/pluggable_device_factory.cc:269] Created TensorFlow device (/job:localhost/replica:0/task:0/device:GPU:0 with 0 MB memory) -> physical PluggableDevice (device: 0, name: METAL, pci bus id: <undefined>)\n"
     ]
    }
   ],
   "source": [
    "# Define the model\n",
    "model = tf.keras.models.Sequential()\n",
    "\n",
    "# First hidden layer\n",
    "model.add(tf.keras.layers.Dense(units=43,activation=\"relu\",input_dim=43))\n",
    "\n",
    "# Second hidden layer\n",
    "model.add(tf.keras.layers.Dense(units=20,activation=\"relu\"))\n",
    "\n",
    "# Output layer\n",
    "model.add(tf.keras.layers.Dense(units=1,activation=\"tanh\"))\n",
    "\n",
    "# Check model structure\n",
    "model.summary()"
   ]
  },
  {
   "cell_type": "code",
   "execution_count": 15,
   "metadata": {},
   "outputs": [],
   "source": [
    "# Compile the model\n",
    "model.compile(loss=\"binary_crossentropy\",optimizer=\"adam\",metrics=[\"accuracy\"])"
   ]
  },
  {
   "cell_type": "code",
   "execution_count": 16,
   "metadata": {},
   "outputs": [
    {
     "name": "stdout",
     "output_type": "stream",
     "text": [
      "Epoch 1/25\n",
      "  1/804 [..............................] - ETA: 3:57 - loss: 5.8199 - accuracy: 0.4062"
     ]
    },
    {
     "name": "stderr",
     "output_type": "stream",
     "text": [
      "2023-07-30 14:48:58.635166: I tensorflow/core/grappler/optimizers/custom_graph_optimizer_registry.cc:114] Plugin optimizer for device_type GPU is enabled.\n"
     ]
    },
    {
     "name": "stdout",
     "output_type": "stream",
     "text": [
      "804/804 [==============================] - 4s 5ms/step - loss: 2.0648 - accuracy: 0.6559\n",
      "Epoch 2/25\n",
      "804/804 [==============================] - 4s 5ms/step - loss: 1.7440 - accuracy: 0.6716\n",
      "Epoch 3/25\n",
      "804/804 [==============================] - 4s 5ms/step - loss: 1.7217 - accuracy: 0.6760\n",
      "Epoch 4/25\n",
      "804/804 [==============================] - 4s 5ms/step - loss: 1.7163 - accuracy: 0.6660\n",
      "Epoch 5/25\n",
      "804/804 [==============================] - 4s 5ms/step - loss: 1.7439 - accuracy: 0.6569\n",
      "Epoch 6/25\n",
      "804/804 [==============================] - 4s 5ms/step - loss: 1.5762 - accuracy: 0.6447\n",
      "Epoch 7/25\n",
      "804/804 [==============================] - 4s 5ms/step - loss: 2.9361 - accuracy: 0.5703\n",
      "Epoch 8/25\n",
      "804/804 [==============================] - 4s 5ms/step - loss: 0.8157 - accuracy: 0.6865\n",
      "Epoch 9/25\n",
      "804/804 [==============================] - 4s 5ms/step - loss: 0.7581 - accuracy: 0.6999\n",
      "Epoch 10/25\n",
      "804/804 [==============================] - 4s 5ms/step - loss: 2.7461 - accuracy: 0.5851\n",
      "Epoch 11/25\n",
      "804/804 [==============================] - 4s 5ms/step - loss: 1.1584 - accuracy: 0.6553\n",
      "Epoch 12/25\n",
      "804/804 [==============================] - 4s 5ms/step - loss: 0.8920 - accuracy: 0.6888\n",
      "Epoch 13/25\n",
      "804/804 [==============================] - 4s 5ms/step - loss: 0.6909 - accuracy: 0.7144\n",
      "Epoch 14/25\n",
      "804/804 [==============================] - 4s 5ms/step - loss: 0.7652 - accuracy: 0.6939\n",
      "Epoch 15/25\n",
      "804/804 [==============================] - 4s 5ms/step - loss: 0.6506 - accuracy: 0.7069\n",
      "Epoch 16/25\n",
      "804/804 [==============================] - 4s 5ms/step - loss: 0.6558 - accuracy: 0.7100\n",
      "Epoch 17/25\n",
      "804/804 [==============================] - 4s 5ms/step - loss: 1.3856 - accuracy: 0.6609\n",
      "Epoch 18/25\n",
      "804/804 [==============================] - 4s 5ms/step - loss: 6.3647 - accuracy: 0.5063\n",
      "Epoch 19/25\n",
      "804/804 [==============================] - 4s 5ms/step - loss: 4.7078 - accuracy: 0.5589\n",
      "Epoch 20/25\n",
      "804/804 [==============================] - 4s 5ms/step - loss: 5.7038 - accuracy: 0.5026\n",
      "Epoch 21/25\n",
      "804/804 [==============================] - 4s 5ms/step - loss: 5.6138 - accuracy: 0.5083\n",
      "Epoch 22/25\n",
      "804/804 [==============================] - 4s 5ms/step - loss: 2.8095 - accuracy: 0.6553\n",
      "Epoch 23/25\n",
      "804/804 [==============================] - 4s 5ms/step - loss: 1.9569 - accuracy: 0.6734\n",
      "Epoch 24/25\n",
      "804/804 [==============================] - 4s 5ms/step - loss: 3.9388 - accuracy: 0.6622\n",
      "Epoch 25/25\n",
      "804/804 [==============================] - 4s 5ms/step - loss: 2.2333 - accuracy: 0.7019\n"
     ]
    },
    {
     "data": {
      "text/plain": [
       "<keras.src.callbacks.History at 0x1779f60d0>"
      ]
     },
     "execution_count": 16,
     "metadata": {},
     "output_type": "execute_result"
    }
   ],
   "source": [
    "# Train the model\n",
    "model.fit(X_train_scaled,y_train,epochs=25)"
   ]
  },
  {
   "cell_type": "code",
   "execution_count": 17,
   "metadata": {},
   "outputs": [
    {
     "name": "stderr",
     "output_type": "stream",
     "text": [
      "2023-07-30 14:50:33.903985: I tensorflow/core/grappler/optimizers/custom_graph_optimizer_registry.cc:114] Plugin optimizer for device_type GPU is enabled.\n"
     ]
    },
    {
     "name": "stdout",
     "output_type": "stream",
     "text": [
      "268/268 - 1s - loss: 1.3082 - accuracy: 0.6377 - 742ms/epoch - 3ms/step\n",
      "Loss: 1.3081653118133545, Accuracy: 0.6376676559448242\n"
     ]
    }
   ],
   "source": [
    "# Evaluate the model using test data\n",
    "model_loss, model_accuracy = model.evaluate(X_test_scaled,y_test,verbose=2)\n",
    "print(f\"Loss: {model_loss}, Accuracy: {model_accuracy}\")"
   ]
  },
  {
   "cell_type": "code",
   "execution_count": 18,
   "metadata": {},
   "outputs": [
    {
     "name": "stderr",
     "output_type": "stream",
     "text": [
      "/Users/vinnyshankar/anaconda3/envs/p4/lib/python3.11/site-packages/keras/src/engine/training.py:3000: UserWarning: You are saving your model as an HDF5 file via `model.save()`. This file format is considered legacy. We recommend using instead the native Keras format, e.g. `model.save('my_model.keras')`.\n",
      "  saving_api.save_model(\n"
     ]
    }
   ],
   "source": [
    "# Export the model\n",
    "model.save(\"model1.h5\")"
   ]
  },
  {
   "cell_type": "code",
   "execution_count": 19,
   "metadata": {},
   "outputs": [
    {
     "name": "stdout",
     "output_type": "stream",
     "text": [
      "Model: \"sequential_1\"\n",
      "_________________________________________________________________\n",
      " Layer (type)                Output Shape              Param #   \n",
      "=================================================================\n",
      " dense_3 (Dense)             (None, 100)               4400      \n",
      "                                                                 \n",
      " dense_4 (Dense)             (None, 50)                5050      \n",
      "                                                                 \n",
      " dense_5 (Dense)             (None, 25)                1275      \n",
      "                                                                 \n",
      " dense_6 (Dense)             (None, 1)                 26        \n",
      "                                                                 \n",
      "=================================================================\n",
      "Total params: 10751 (42.00 KB)\n",
      "Trainable params: 10751 (42.00 KB)\n",
      "Non-trainable params: 0 (0.00 Byte)\n",
      "_________________________________________________________________\n"
     ]
    }
   ],
   "source": [
    "# Define the model\n",
    "model2 = tf.keras.models.Sequential()\n",
    "\n",
    "# First hidden layer\n",
    "model2.add(tf.keras.layers.Dense(units=100,activation=\"relu\",input_dim=43))\n",
    "\n",
    "# Third hidden layer\n",
    "model2.add(tf.keras.layers.Dense(units=50,activation=\"tanh\"))\n",
    "\n",
    "# Fourth hidden layer\n",
    "model2.add(tf.keras.layers.Dense(units=25,activation=\"tanh\"))\n",
    "\n",
    "# Output layer\n",
    "model2.add(tf.keras.layers.Dense(units=1,activation=\"tanh\"))\n",
    "\n",
    "# Check model structure\n",
    "model2.summary()"
   ]
  },
  {
   "cell_type": "code",
   "execution_count": 20,
   "metadata": {},
   "outputs": [],
   "source": [
    "# Compile the model\n",
    "model2.compile(loss=\"binary_crossentropy\",optimizer=\"adam\",metrics=[\"accuracy\"])"
   ]
  },
  {
   "cell_type": "code",
   "execution_count": 21,
   "metadata": {},
   "outputs": [
    {
     "name": "stdout",
     "output_type": "stream",
     "text": [
      "Epoch 1/25\n",
      "  1/804 [..............................] - ETA: 3:44 - loss: 2.2300 - accuracy: 0.5000"
     ]
    },
    {
     "name": "stderr",
     "output_type": "stream",
     "text": [
      "2023-07-30 14:50:34.862292: I tensorflow/core/grappler/optimizers/custom_graph_optimizer_registry.cc:114] Plugin optimizer for device_type GPU is enabled.\n"
     ]
    },
    {
     "name": "stdout",
     "output_type": "stream",
     "text": [
      "804/804 [==============================] - 4s 5ms/step - loss: 1.3359 - accuracy: 0.6811\n",
      "Epoch 2/25\n",
      "804/804 [==============================] - 4s 5ms/step - loss: 0.9306 - accuracy: 0.6861\n",
      "Epoch 3/25\n",
      "804/804 [==============================] - 4s 5ms/step - loss: 0.6439 - accuracy: 0.7091\n",
      "Epoch 4/25\n",
      "804/804 [==============================] - 4s 5ms/step - loss: 0.6013 - accuracy: 0.7194\n",
      "Epoch 5/25\n",
      "804/804 [==============================] - 4s 5ms/step - loss: 0.5846 - accuracy: 0.7257\n",
      "Epoch 6/25\n",
      "804/804 [==============================] - 4s 5ms/step - loss: 0.5891 - accuracy: 0.7256\n",
      "Epoch 7/25\n",
      "804/804 [==============================] - 4s 5ms/step - loss: 0.5968 - accuracy: 0.7208\n",
      "Epoch 8/25\n",
      "804/804 [==============================] - 4s 5ms/step - loss: 0.5841 - accuracy: 0.7225\n",
      "Epoch 9/25\n",
      "804/804 [==============================] - 4s 5ms/step - loss: 0.6472 - accuracy: 0.7148\n",
      "Epoch 10/25\n",
      "804/804 [==============================] - 4s 5ms/step - loss: 0.5858 - accuracy: 0.7175\n",
      "Epoch 11/25\n",
      "804/804 [==============================] - 4s 5ms/step - loss: 0.5641 - accuracy: 0.7252\n",
      "Epoch 12/25\n",
      "804/804 [==============================] - 4s 5ms/step - loss: 0.5594 - accuracy: 0.7307\n",
      "Epoch 13/25\n",
      "804/804 [==============================] - 4s 5ms/step - loss: 0.5604 - accuracy: 0.7304\n",
      "Epoch 14/25\n",
      "804/804 [==============================] - 4s 5ms/step - loss: 0.5778 - accuracy: 0.7257\n",
      "Epoch 15/25\n",
      "804/804 [==============================] - 4s 5ms/step - loss: 0.5757 - accuracy: 0.7266\n",
      "Epoch 16/25\n",
      "804/804 [==============================] - 4s 5ms/step - loss: 0.5687 - accuracy: 0.7246\n",
      "Epoch 17/25\n",
      "804/804 [==============================] - 4s 5ms/step - loss: 0.5858 - accuracy: 0.7153\n",
      "Epoch 18/25\n",
      "804/804 [==============================] - 4s 5ms/step - loss: 0.5636 - accuracy: 0.7264\n",
      "Epoch 19/25\n",
      "804/804 [==============================] - 4s 5ms/step - loss: 0.5712 - accuracy: 0.7247\n",
      "Epoch 20/25\n",
      "804/804 [==============================] - 4s 5ms/step - loss: 0.5629 - accuracy: 0.7264\n",
      "Epoch 21/25\n",
      "804/804 [==============================] - 4s 5ms/step - loss: 0.5820 - accuracy: 0.7262\n",
      "Epoch 22/25\n",
      "804/804 [==============================] - 4s 5ms/step - loss: 0.5762 - accuracy: 0.7263\n",
      "Epoch 23/25\n",
      "804/804 [==============================] - 4s 5ms/step - loss: 0.5692 - accuracy: 0.7292\n",
      "Epoch 24/25\n",
      "804/804 [==============================] - 4s 5ms/step - loss: 0.5708 - accuracy: 0.7222\n",
      "Epoch 25/25\n",
      "804/804 [==============================] - 4s 5ms/step - loss: 0.5605 - accuracy: 0.7327\n"
     ]
    },
    {
     "data": {
      "text/plain": [
       "<keras.src.callbacks.History at 0x2995f1e50>"
      ]
     },
     "execution_count": 21,
     "metadata": {},
     "output_type": "execute_result"
    }
   ],
   "source": [
    "# Train the model\n",
    "model2.fit(X_train_scaled,y_train,epochs=25)"
   ]
  },
  {
   "cell_type": "code",
   "execution_count": 22,
   "metadata": {},
   "outputs": [
    {
     "name": "stderr",
     "output_type": "stream",
     "text": [
      "2023-07-30 14:52:17.000295: I tensorflow/core/grappler/optimizers/custom_graph_optimizer_registry.cc:114] Plugin optimizer for device_type GPU is enabled.\n"
     ]
    },
    {
     "name": "stdout",
     "output_type": "stream",
     "text": [
      "268/268 - 1s - loss: 0.5662 - accuracy: 0.7269 - 761ms/epoch - 3ms/step\n",
      "Loss: 0.5662127137184143, Accuracy: 0.7268804907798767\n"
     ]
    }
   ],
   "source": [
    "# Evaluate the model using test data\n",
    "model_loss, model_accuracy = model2.evaluate(X_test_scaled,y_test,verbose=2)\n",
    "print(f\"Loss: {model_loss}, Accuracy: {model_accuracy}\")"
   ]
  },
  {
   "cell_type": "code",
   "execution_count": 23,
   "metadata": {},
   "outputs": [],
   "source": [
    "# Export the model\n",
    "model2.save(\"model2.h5\")"
   ]
  },
  {
   "cell_type": "code",
   "execution_count": 24,
   "metadata": {},
   "outputs": [],
   "source": [
    "# Auto Optimizer Model Function\n",
    "def create_model(hp):\n",
    "    nn_model = tf.keras.models.Sequential()\n",
    "\n",
    "    activation = hp.Choice(\"activation\",[\"relu\",\"tanh\",\"sigmoid\"])\n",
    "\n",
    "    nn_model.add(tf.keras.layers.Dense(units=hp.Int(\"first_units\",\n",
    "                                                    min_value=1,\n",
    "                                                    max_value=100,\n",
    "                                                    step=2),\n",
    "                                                    activation=activation,\n",
    "                                                    input_dim=43))\n",
    "    \n",
    "    for i in range(hp.Int(\"num_layers\",1,6)):\n",
    "        nn_model.add(tf.keras.layers.Dense(units=hp.Int(\"units_\" + str(i),\n",
    "                                                        min_value=1,\n",
    "                                                        max_value=50,\n",
    "                                                        step=2),\n",
    "                                                        activation=activation))\n",
    "    \n",
    "    nn_model.add(tf.keras.layers.Dense(units=1,activation=\"sigmoid\"))\n",
    "\n",
    "    nn_model.compile(loss=\"binary_crossentropy\",\n",
    "                     optimizer=\"adam\",\n",
    "                     metrics=[\"accuracy\"])\n",
    "    \n",
    "    return nn_model"
   ]
  },
  {
   "cell_type": "code",
   "execution_count": 25,
   "metadata": {},
   "outputs": [],
   "source": [
    "# Tuner\n",
    "tuner = kt.Hyperband(create_model,\n",
    "                     objective=\"val_accuracy\",\n",
    "                     max_epochs=5,\n",
    "                     hyperband_iterations=2,\n",
    "                     overwrite=True)"
   ]
  },
  {
   "cell_type": "code",
   "execution_count": 26,
   "metadata": {},
   "outputs": [
    {
     "name": "stdout",
     "output_type": "stream",
     "text": [
      "Trial 20 Complete [00h 00m 24s]\n",
      "val_accuracy: 0.7162682414054871\n",
      "\n",
      "Best val_accuracy So Far: 0.726064145565033\n",
      "Total elapsed time: 00h 05m 43s\n",
      "INFO:tensorflow:Oracle triggered exit\n"
     ]
    }
   ],
   "source": [
    "# Run the Auto Optimizer\n",
    "tuner.search(X_train_scaled,y_train,epochs=5,validation_data=(X_test_scaled,y_test))"
   ]
  },
  {
   "cell_type": "code",
   "execution_count": 27,
   "metadata": {},
   "outputs": [
    {
     "data": {
      "text/plain": [
       "{'activation': 'tanh',\n",
       " 'first_units': 41,\n",
       " 'num_layers': 5,\n",
       " 'units_0': 23,\n",
       " 'units_1': 31,\n",
       " 'units_2': 5,\n",
       " 'units_3': 37,\n",
       " 'units_4': 19,\n",
       " 'units_5': 33,\n",
       " 'tuner/epochs': 5,\n",
       " 'tuner/initial_epoch': 2,\n",
       " 'tuner/bracket': 1,\n",
       " 'tuner/round': 1,\n",
       " 'tuner/trial_id': '0014'}"
      ]
     },
     "execution_count": 27,
     "metadata": {},
     "output_type": "execute_result"
    }
   ],
   "source": [
    "# Hyperparameters of best model found by auto optimizer\n",
    "best_hyper = tuner.get_best_hyperparameters(1)[0]\n",
    "best_hyper.values"
   ]
  },
  {
   "cell_type": "code",
   "execution_count": 28,
   "metadata": {},
   "outputs": [
    {
     "name": "stderr",
     "output_type": "stream",
     "text": [
      "2023-07-30 14:58:01.079311: I tensorflow/core/grappler/optimizers/custom_graph_optimizer_registry.cc:114] Plugin optimizer for device_type GPU is enabled.\n"
     ]
    },
    {
     "name": "stdout",
     "output_type": "stream",
     "text": [
      "268/268 - 1s - loss: 0.5537 - accuracy: 0.7261 - 925ms/epoch - 3ms/step\n",
      "Loss: 0.553662896156311, Accuracy: 0.726064145565033\n"
     ]
    }
   ],
   "source": [
    "# Results from best model found by auto optimizer\n",
    "best_model = tuner.get_best_models(1)[0]\n",
    "model_loss, model_accuracy = best_model.evaluate(X_test_scaled,y_test,verbose=2)\n",
    "print(f\"Loss: {model_loss}, Accuracy: {model_accuracy}\")"
   ]
  },
  {
   "cell_type": "code",
   "execution_count": 29,
   "metadata": {},
   "outputs": [],
   "source": [
    "best_model.save(\"model3.h5\")"
   ]
  },
  {
   "cell_type": "code",
   "execution_count": 30,
   "metadata": {},
   "outputs": [
    {
     "name": "stdout",
     "output_type": "stream",
     "text": [
      "WARNING:tensorflow:Error in loading the saved optimizer state. As a result, your model is starting with a freshly initialized optimizer.\n"
     ]
    },
    {
     "data": {
      "text/plain": [
       "{'name': 'sequential',\n",
       " 'layers': [{'module': 'keras.layers',\n",
       "   'class_name': 'InputLayer',\n",
       "   'config': {'batch_input_shape': (None, 43),\n",
       "    'dtype': 'float32',\n",
       "    'sparse': False,\n",
       "    'ragged': False,\n",
       "    'name': 'dense_input'},\n",
       "   'registered_name': None},\n",
       "  {'module': 'keras.layers',\n",
       "   'class_name': 'Dense',\n",
       "   'config': {'name': 'dense',\n",
       "    'trainable': True,\n",
       "    'dtype': 'float32',\n",
       "    'batch_input_shape': (None, 43),\n",
       "    'units': 41,\n",
       "    'activation': 'tanh',\n",
       "    'use_bias': True,\n",
       "    'kernel_initializer': {'module': 'keras.initializers',\n",
       "     'class_name': 'GlorotUniform',\n",
       "     'config': {'seed': None},\n",
       "     'registered_name': None},\n",
       "    'bias_initializer': {'module': 'keras.initializers',\n",
       "     'class_name': 'Zeros',\n",
       "     'config': {},\n",
       "     'registered_name': None},\n",
       "    'kernel_regularizer': None,\n",
       "    'bias_regularizer': None,\n",
       "    'activity_regularizer': None,\n",
       "    'kernel_constraint': None,\n",
       "    'bias_constraint': None},\n",
       "   'registered_name': None,\n",
       "   'build_config': {'input_shape': (None, 43)}},\n",
       "  {'module': 'keras.layers',\n",
       "   'class_name': 'Dense',\n",
       "   'config': {'name': 'dense_1',\n",
       "    'trainable': True,\n",
       "    'dtype': 'float32',\n",
       "    'units': 23,\n",
       "    'activation': 'tanh',\n",
       "    'use_bias': True,\n",
       "    'kernel_initializer': {'module': 'keras.initializers',\n",
       "     'class_name': 'GlorotUniform',\n",
       "     'config': {'seed': None},\n",
       "     'registered_name': None},\n",
       "    'bias_initializer': {'module': 'keras.initializers',\n",
       "     'class_name': 'Zeros',\n",
       "     'config': {},\n",
       "     'registered_name': None},\n",
       "    'kernel_regularizer': None,\n",
       "    'bias_regularizer': None,\n",
       "    'activity_regularizer': None,\n",
       "    'kernel_constraint': None,\n",
       "    'bias_constraint': None},\n",
       "   'registered_name': None,\n",
       "   'build_config': {'input_shape': (None, 41)}},\n",
       "  {'module': 'keras.layers',\n",
       "   'class_name': 'Dense',\n",
       "   'config': {'name': 'dense_2',\n",
       "    'trainable': True,\n",
       "    'dtype': 'float32',\n",
       "    'units': 31,\n",
       "    'activation': 'tanh',\n",
       "    'use_bias': True,\n",
       "    'kernel_initializer': {'module': 'keras.initializers',\n",
       "     'class_name': 'GlorotUniform',\n",
       "     'config': {'seed': None},\n",
       "     'registered_name': None},\n",
       "    'bias_initializer': {'module': 'keras.initializers',\n",
       "     'class_name': 'Zeros',\n",
       "     'config': {},\n",
       "     'registered_name': None},\n",
       "    'kernel_regularizer': None,\n",
       "    'bias_regularizer': None,\n",
       "    'activity_regularizer': None,\n",
       "    'kernel_constraint': None,\n",
       "    'bias_constraint': None},\n",
       "   'registered_name': None,\n",
       "   'build_config': {'input_shape': (None, 23)}},\n",
       "  {'module': 'keras.layers',\n",
       "   'class_name': 'Dense',\n",
       "   'config': {'name': 'dense_3',\n",
       "    'trainable': True,\n",
       "    'dtype': 'float32',\n",
       "    'units': 5,\n",
       "    'activation': 'tanh',\n",
       "    'use_bias': True,\n",
       "    'kernel_initializer': {'module': 'keras.initializers',\n",
       "     'class_name': 'GlorotUniform',\n",
       "     'config': {'seed': None},\n",
       "     'registered_name': None},\n",
       "    'bias_initializer': {'module': 'keras.initializers',\n",
       "     'class_name': 'Zeros',\n",
       "     'config': {},\n",
       "     'registered_name': None},\n",
       "    'kernel_regularizer': None,\n",
       "    'bias_regularizer': None,\n",
       "    'activity_regularizer': None,\n",
       "    'kernel_constraint': None,\n",
       "    'bias_constraint': None},\n",
       "   'registered_name': None,\n",
       "   'build_config': {'input_shape': (None, 31)}},\n",
       "  {'module': 'keras.layers',\n",
       "   'class_name': 'Dense',\n",
       "   'config': {'name': 'dense_4',\n",
       "    'trainable': True,\n",
       "    'dtype': 'float32',\n",
       "    'units': 37,\n",
       "    'activation': 'tanh',\n",
       "    'use_bias': True,\n",
       "    'kernel_initializer': {'module': 'keras.initializers',\n",
       "     'class_name': 'GlorotUniform',\n",
       "     'config': {'seed': None},\n",
       "     'registered_name': None},\n",
       "    'bias_initializer': {'module': 'keras.initializers',\n",
       "     'class_name': 'Zeros',\n",
       "     'config': {},\n",
       "     'registered_name': None},\n",
       "    'kernel_regularizer': None,\n",
       "    'bias_regularizer': None,\n",
       "    'activity_regularizer': None,\n",
       "    'kernel_constraint': None,\n",
       "    'bias_constraint': None},\n",
       "   'registered_name': None,\n",
       "   'build_config': {'input_shape': (None, 5)}},\n",
       "  {'module': 'keras.layers',\n",
       "   'class_name': 'Dense',\n",
       "   'config': {'name': 'dense_5',\n",
       "    'trainable': True,\n",
       "    'dtype': 'float32',\n",
       "    'units': 19,\n",
       "    'activation': 'tanh',\n",
       "    'use_bias': True,\n",
       "    'kernel_initializer': {'module': 'keras.initializers',\n",
       "     'class_name': 'GlorotUniform',\n",
       "     'config': {'seed': None},\n",
       "     'registered_name': None},\n",
       "    'bias_initializer': {'module': 'keras.initializers',\n",
       "     'class_name': 'Zeros',\n",
       "     'config': {},\n",
       "     'registered_name': None},\n",
       "    'kernel_regularizer': None,\n",
       "    'bias_regularizer': None,\n",
       "    'activity_regularizer': None,\n",
       "    'kernel_constraint': None,\n",
       "    'bias_constraint': None},\n",
       "   'registered_name': None,\n",
       "   'build_config': {'input_shape': (None, 37)}},\n",
       "  {'module': 'keras.layers',\n",
       "   'class_name': 'Dense',\n",
       "   'config': {'name': 'dense_6',\n",
       "    'trainable': True,\n",
       "    'dtype': 'float32',\n",
       "    'units': 1,\n",
       "    'activation': 'sigmoid',\n",
       "    'use_bias': True,\n",
       "    'kernel_initializer': {'module': 'keras.initializers',\n",
       "     'class_name': 'GlorotUniform',\n",
       "     'config': {'seed': None},\n",
       "     'registered_name': None},\n",
       "    'bias_initializer': {'module': 'keras.initializers',\n",
       "     'class_name': 'Zeros',\n",
       "     'config': {},\n",
       "     'registered_name': None},\n",
       "    'kernel_regularizer': None,\n",
       "    'bias_regularizer': None,\n",
       "    'activity_regularizer': None,\n",
       "    'kernel_constraint': None,\n",
       "    'bias_constraint': None},\n",
       "   'registered_name': None,\n",
       "   'build_config': {'input_shape': (None, 19)}}]}"
      ]
     },
     "execution_count": 30,
     "metadata": {},
     "output_type": "execute_result"
    }
   ],
   "source": [
    "loaded_model = tf.keras.models.load_model(\"model3.h5\")\n",
    "loaded_model.get_config()"
   ]
  }
 ],
 "metadata": {
  "kernelspec": {
   "display_name": "dev1",
   "language": "python",
   "name": "python3"
  },
  "language_info": {
   "codemirror_mode": {
    "name": "ipython",
    "version": 3
   },
   "file_extension": ".py",
   "mimetype": "text/x-python",
   "name": "python",
   "nbconvert_exporter": "python",
   "pygments_lexer": "ipython3",
   "version": "3.11.4"
  },
  "orig_nbformat": 4
 },
 "nbformat": 4,
 "nbformat_minor": 2
}
